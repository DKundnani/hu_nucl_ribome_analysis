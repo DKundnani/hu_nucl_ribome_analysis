{
 "cells": [
  {
   "cell_type": "code",
   "execution_count": 8,
   "id": "1495494a-b1e5-47be-958a-1455cd23ef1c",
   "metadata": {},
   "outputs": [],
   "source": [
    "import pickle\n",
    "import pandas as pd"
   ]
  },
  {
   "cell_type": "code",
   "execution_count": 13,
   "id": "07ed5f79-f89a-4b62-8114-9196bf9ee9e5",
   "metadata": {},
   "outputs": [],
   "source": [
    "#Gel Name\n",
    "\n",
    "Gel_Name='Gel24_main'\n",
    "\n",
    "#Uploading the data and initial values\n",
    "labels=['CD4T', 'hESC-H9', 'HEK293T','RNH2-KO-T3-8','RNH2-KO-T3-17']\n",
    "\n",
    "Total=10e6\n",
    "n_reps=10\n",
    "threshold_N=0.001"
   ]
  },
  {
   "cell_type": "code",
   "execution_count": 23,
   "id": "009c31bd-9683-484d-ae71-2a526172ed2d",
   "metadata": {},
   "outputs": [],
   "source": [
    "Statistics=[]\n",
    "for label in labels:\n",
    "    filename='Statistics_'+label+'_Total_'+format(float(Total),'.2')+'_reps_'+str(int(n_reps))+'.pkl'\n",
    "    with open(filename, 'rb') as file:\n",
    "        St_df = pickle.load(file)\n",
    "        Statistics.append(St_df)\n",
    "\n",
    "merged_df = pd.concat(Statistics,axis=1)\n",
    "\n",
    "#Save Result\n",
    "filename='Statistics_'+Gel_Name+'_Simulations_'+format(float(Total),'.2')+'_reps_'+str(int(n_reps))+'.csv'\n",
    "merged_df.to_csv(filename, index=False)"
   ]
  },
  {
   "cell_type": "code",
   "execution_count": null,
   "id": "77b913b5-095d-457c-a1a6-78b74bdd87a4",
   "metadata": {},
   "outputs": [],
   "source": [
    "Mean_Distributions=[]\n",
    "for label in labels:\n",
    "    filename='Mean_Distribution_'+label+'_Total_'+format(float(Total),'.2')+'_reps_'+str(int(n_reps))+'.pkl'\n",
    "    with open(filename, 'rb') as file:\n",
    "        Mean_dist = pickle.load(file)\n",
    "        Mean_Distributions.append(Mean_dist)\n",
    "\n",
    "merged_df = pd.concat(Mean_Distributions).set_index('length').groupby('length').sum().fillna(0).reset_index()\n",
    "\n",
    "#Save Result\n",
    "filename='Mean_Fragments_Distributions_'+Gel_Name+'_Simulations_'+format(float(Total),'.2')+'_reps_'+str(int(n_reps))+'.csv'\n",
    "merged_df.to_csv(filename, index=False)"
   ]
  }
 ],
 "metadata": {
  "kernelspec": {
   "display_name": "Python 3 (ipykernel)",
   "language": "python",
   "name": "python3"
  },
  "language_info": {
   "codemirror_mode": {
    "name": "ipython",
    "version": 3
   },
   "file_extension": ".py",
   "mimetype": "text/x-python",
   "name": "python",
   "nbconvert_exporter": "python",
   "pygments_lexer": "ipython3",
   "version": "3.9.12"
  }
 },
 "nbformat": 4,
 "nbformat_minor": 5
}
