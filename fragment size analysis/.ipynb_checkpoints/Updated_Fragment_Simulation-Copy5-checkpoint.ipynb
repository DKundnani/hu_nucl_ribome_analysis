{
 "cells": [
  {
   "cell_type": "code",
   "execution_count": 1,
   "id": "26f9ef62-8513-408a-8467-04079ab1d3a3",
   "metadata": {},
   "outputs": [
    {
     "name": "stderr",
     "output_type": "stream",
     "text": [
      "/Users/franciscomartinez/opt/anaconda3/lib/python3.9/site-packages/pandas/core/arrays/masked.py:60: UserWarning: Pandas requires version '1.3.6' or newer of 'bottleneck' (version '1.3.4' currently installed).\n",
      "  from pandas.core import (\n"
     ]
    }
   ],
   "source": [
    "import pandas as pd\n",
    "import numpy as np\n",
    "import pickle\n",
    "import random\n",
    "from collections import Counter\n",
    "import matplotlib.pyplot as plt"
   ]
  },
  {
   "cell_type": "code",
   "execution_count": 2,
   "id": "3c88cef9-f5e7-4d74-b41f-3c730368ca91",
   "metadata": {},
   "outputs": [],
   "source": [
    "def get_Fragments_DF(DF,label):\n",
    "    #Create new DatFrame\n",
    "    Fragments=DF[['length',label]]\n",
    "    #Fragments['length']=Fragments['length'].astype('int')\n",
    "    Fragments.set_index('length',inplace=True)\n",
    "\n",
    "    #Delete zeros\n",
    "    Fragments = Fragments[(Fragments != 0).all(axis=1)]\n",
    "\n",
    "    #Sort Fragments\n",
    "    Fragments=Fragments.sort_index()\n",
    "    return Fragments"
   ]
  },
  {
   "cell_type": "code",
   "execution_count": 3,
   "id": "8318fcf7-8437-4703-b226-401254b5c6c7",
   "metadata": {},
   "outputs": [],
   "source": [
    "def get_median(DF,label):\n",
    "    DF=DF.sort_index()\n",
    "    yy=DF[label]/np.sum(DF[label])\n",
    "    cum_prob=np.cumsum(yy)\n",
    "    index=np.argmax(cum_prob>=0.5)\n",
    "    return DF.index[index]\n",
    "\n",
    "def get_median0(DF,label):\n",
    "    DF=DF.sort_values(by='length')\n",
    "    yy=DF[label]/np.sum(DF[label])\n",
    "    cum_prob=np.cumsum(yy)\n",
    "    index=np.argmax(cum_prob>=0.5)\n",
    "    return DF['length'][index]"
   ]
  },
  {
   "cell_type": "code",
   "execution_count": 4,
   "id": "21f87d44-0f0b-4491-b60d-f96baa612255",
   "metadata": {},
   "outputs": [],
   "source": [
    "def load_data(file_path_nontreated, file_path_treated,label,Total=1e6):\n",
    "    data_labels=['0','CD4T', 'hESC-H9', 'HEK293T', 'RNH2-KO-T3-8','RNH2-KO-T3-17']\n",
    "    new_labels=['length']+data_labels[1::]\n",
    "\n",
    "    # Read the CSV file and create DataFrames\n",
    "    NonTreated = pd.read_csv(file_path_nontreated,usecols=data_labels).dropna()\n",
    "    Treated = pd.read_csv(file_path_treated,usecols=data_labels).dropna()\n",
    "\n",
    "    NonTreated.columns=new_labels\n",
    "    Treated.columns=new_labels\n",
    "    \n",
    "    print(sum(Treated[label]),sum(NonTreated[label]))\n",
    "\n",
    "    NonTreated['length']=NonTreated['length']\n",
    "    NonTreated[label]=np.round(NonTreated[label]*Total/NonTreated[label].sum())\n",
    "    NonTreated['length']=np.array(np.round(NonTreated['length']),dtype='int')\n",
    "    NonTreated=NonTreated.groupby('length').sum().reset_index()\n",
    "\n",
    "    Treated['length']=Treated['length']\n",
    "    Treated[label]=np.round(Treated[label]*Total/Treated[label].sum())\n",
    "    Treated['length']=np.array(np.round(Treated['length']),dtype='int')\n",
    "    Treated=Treated.groupby('length').sum().reset_index()\n",
    "    \n",
    "    return Treated, NonTreated"
   ]
  },
  {
   "cell_type": "code",
   "execution_count": 5,
   "id": "8eb4cdc5-489a-4afb-8409-8c0c3d0fe38e",
   "metadata": {},
   "outputs": [],
   "source": [
    "def cut_given_length_alternative(length, min_length,n_cuts):\n",
    "    #Find random positions for the cuts\n",
    "    cut_pos=random.choices(range(min_length,length-min_length+1),k=n_cuts)\n",
    "    cut_pos.sort()\n",
    "    \n",
    "    #Computes the resulting lengths\n",
    "    lengths=np.diff([0]+cut_pos+[length])\n",
    "    \n",
    "    #The following snippet makes sure that no length in lengths is smaller than min_length\n",
    "    #If that is the case, it is then added to the smaller of its neighbors. \n",
    "    lengths_padded=[2*min_length]+list(lengths)+[2*min_length]\n",
    "    min_val=min(lengths_padded)\n",
    "    while min_val<min_length:\n",
    "        min_index=np.argmin(lengths_padded)\n",
    "        j=np.argmin([lengths_padded[min_index-1], lengths_padded[min_index+1]])\n",
    "        lengths_padded[min_index+j]+=lengths_padded[min_index]\n",
    "        lengths_padded=lengths_padded[:min_index]+lengths_padded[min_index+1:]\n",
    "        min_val=min(lengths_padded)\n",
    "    \n",
    "    return lengths_padded[1:-1]"
   ]
  },
  {
   "cell_type": "code",
   "execution_count": 6,
   "id": "988b8082-9e6d-40b9-963f-29d5a541a8c4",
   "metadata": {},
   "outputs": [],
   "source": [
    "def cut_given_length(length, min_length,n_cuts):\n",
    "    if length<=min_length*(n_cuts+1):\n",
    "        n_cuts=int(np.floor(length/min_length))-1\n",
    "    minimum=0\n",
    "    num_tries=0\n",
    "    while minimum<=min_length and num_tries<=10:\n",
    "        num_tries+=1\n",
    "        #Find random positions for the cuts\n",
    "        try:\n",
    "            cut_pos=random.choices(range(min_length,length-min_length+1),k=n_cuts)\n",
    "            cut_pos.sort()\n",
    "        except:\n",
    "            print(min_length, length, n_cuts)\n",
    "\n",
    "        #Computes the resulting lengths\n",
    "        lengths=np.diff([0]+cut_pos+[length])\n",
    "        minimum=min(lengths)\n",
    "        \n",
    "    return list(lengths)"
   ]
  },
  {
   "cell_type": "code",
   "execution_count": 7,
   "id": "08943c83-be82-4b98-bfb0-fc5419bf6b5b",
   "metadata": {},
   "outputs": [],
   "source": [
    "def run_simulation(Fragments,label, N,min_size,cuts_count=0):\n",
    "    #Compute weights\n",
    "    weights=np.array(Fragments.index)*np.array(Fragments[label])\n",
    "\n",
    "    # Randomly choose N segments on the given weights\n",
    "    random_lengths = random.choices(Fragments.index, weights=weights, k=N)\n",
    "\n",
    "    #Get Counter object\n",
    "    counter_lengths=Counter(random_lengths)\n",
    "\n",
    "    #Make the cuts\n",
    "    new_lengths=[]\n",
    "    for length in counter_lengths:\n",
    "        count=counter_lengths[length]\n",
    "        \n",
    "        random_indices=random.choices(range(int(Fragments.loc[length,label])),k=count)\n",
    "        counter_indices=Counter(random_indices)\n",
    "\n",
    "        for n_cuts in counter_indices.values():\n",
    "            Fragments.loc[length,label]-=1\n",
    "            lengths_cut=cut_given_length(length,min_size,n_cuts)\n",
    "            new_lengths+=lengths_cut\n",
    "            cuts_count+=len(lengths_cut)-1\n",
    "            \n",
    "\n",
    "    #Update the lengths in Fragments\n",
    "    counter_new_lengths=Counter(new_lengths)\n",
    "    for length in counter_new_lengths:\n",
    "        if length in Fragments.index:\n",
    "            Fragments.loc[length,label]+=counter_new_lengths[length]\n",
    "        else:\n",
    "            Fragments.loc[length,label]=counter_new_lengths[length]\n",
    "    Fragments=Fragments[Fragments[label]!=0]\n",
    "    return Fragments,cuts_count,new_lengths"
   ]
  },
  {
   "cell_type": "code",
   "execution_count": 8,
   "id": "b3f76673-735a-41b7-a7bf-a0a34b53d853",
   "metadata": {},
   "outputs": [
    {
     "name": "stdout",
     "output_type": "stream",
     "text": [
      "38095768595.53427 32581290408.657726\n"
     ]
    }
   ],
   "source": [
    "data_labels=['0','CD4T', 'hESC-H9', 'HEK293T', 'RNH2-KO-T3-8','RNH2-KO-T3-17']\n",
    "label=data_labels[4]\n",
    "Total=1e6\n",
    "Treated, NonTreated=load_data('fragments_nontreated.csv','fragments_treated.csv',label)\n",
    "Fragments=get_Fragments_DF(NonTreated,label)\n",
    "Fragments[label].sum()\n",
    "min_size=min(Fragments.index)"
   ]
  },
  {
   "cell_type": "code",
   "execution_count": 9,
   "id": "c9fda3d0-4bf0-4ac7-a2ef-fb02eb842a58",
   "metadata": {},
   "outputs": [],
   "source": [
    "n_reps=3\n",
    "threshold_N=5000"
   ]
  },
  {
   "cell_type": "code",
   "execution_count": null,
   "id": "c49f9a39-d72e-48c0-87d2-50492fadfa66",
   "metadata": {},
   "outputs": [
    {
     "name": "stdout",
     "output_type": "stream",
     "text": [
      "Initial Median  10511\n",
      "Goal Median  7414\n",
      "------------\n",
      "N= 333333 ***.\n",
      "N= 166666 ***.\n",
      "N= 249999 ***.\n",
      "N= 291666 ***.\n",
      "N= 270832 *"
     ]
    }
   ],
   "source": [
    "#Binary Search\n",
    "Goal_Median=get_median0(Treated,label)\n",
    "Initial_Median=get_median0(NonTreated,label)\n",
    "\n",
    "print('Initial Median ', Initial_Median)\n",
    "print('Goal Median ', Goal_Median)\n",
    "print('------------')\n",
    "\n",
    "min_N=0; max_N=int(np.floor(2*Total/3))\n",
    "N=int((max_N+min_N)/2)\n",
    "continue_search=True\n",
    "\n",
    "while(continue_search):\n",
    "    medians_try=[]\n",
    "    Fragments_try=[]\n",
    "    cuts_count_try=[]\n",
    "    new_lengths_try=[]\n",
    "    print('N=', N, end=' ')\n",
    "    for rep_index in range(n_reps):\n",
    "        print('*', end='')\n",
    "        New_Fragments=Fragments.copy()\n",
    "        New_Fragments,cuts_count,new_lengths=run_simulation(New_Fragments, label,N,min_size,cuts_count=0)\n",
    "        Fragments_try.append(New_Fragments.copy())\n",
    "        cuts_count_try.append(cuts_count)\n",
    "        new_lengths_try.append(new_lengths.copy())\n",
    "        medians_try.append(get_median(New_Fragments,label))  \n",
    "    print('.')\n",
    "\n",
    "    average_median=np.mean(medians_try)\n",
    "    if average_median<Goal_Median:\n",
    "        max_N=N\n",
    "        new_N=int((max_N+min_N)/2)\n",
    "    else:\n",
    "        min_N=N\n",
    "        new_N=int((max_N+min_N)/2)\n",
    "    if abs(new_N-N)>=threshold_N:\n",
    "        continue_search=True\n",
    "        N=new_N\n",
    "    else:\n",
    "        continue_search=False\n",
    "    "
   ]
  },
  {
   "cell_type": "code",
   "execution_count": null,
   "id": "fa123e03-1fb5-44c8-931e-84c210ff2f34",
   "metadata": {},
   "outputs": [],
   "source": []
  },
  {
   "cell_type": "code",
   "execution_count": null,
   "id": "82a04ba9-2597-4dbd-9db7-55ecc5e0e795",
   "metadata": {},
   "outputs": [],
   "source": [
    "import matplotlib.pyplot as plt\n",
    "print('Final Distribution')\n",
    "print('Label: ',label)\n",
    "print('Median before ', get_median(Fragments,label))\n",
    "print('Goal Median ', Goal_Median)\n",
    "print('New medians: ', medians_try)\n",
    "print('New medians average: ', np.mean(medians_try))\n",
    "print('Percent of cuts: ', np.average(cuts_count_try)/Total*100, '%')\n",
    "print('Number of cuts/million fragments', np.average(cuts_count_try))\n",
    "\n",
    "#Original Distro\n",
    "df=Fragments.copy()\n",
    "df=df.reset_index()\n",
    "df['x_group'] = ((df[\"length\"]) // 1000)*1000 # Group x into bins of 10\n",
    "df = df.groupby('x_group')[label].sum().reset_index()\n",
    "\n",
    "old_x=np.array(df['x_group'])\n",
    "old_y=np.array(df[label])/df[label].sum()\n",
    "plt.plot(old_x,old_y)\n",
    "\n",
    "#New Distribution\n",
    "for New_Fragments in Fragments_try:\n",
    "    New_Fragments = New_Fragments[(New_Fragments != 0).all(axis=1)]\n",
    "    df=New_Fragments.copy()\n",
    "    df=df.reset_index()\n",
    "    df['x_group'] = ((df[\"length\"]) // 1000)*1000 # Group x into bins of 10\n",
    "    df = df.groupby('x_group')[label].sum().reset_index()\n",
    "\n",
    "    new_x=np.array(df['x_group'])\n",
    "    new_y=np.array(df[label])/df[label].sum()\n",
    "\n",
    "    plt.plot(new_x,new_y)\n",
    "plt.legend(['Pre-treatment', 'Simulation1','Simulation2','Simulation3','Simulation4','Simulation5'])\n",
    "plt.show()"
   ]
  },
  {
   "cell_type": "code",
   "execution_count": null,
   "id": "b1218d1b-b8b4-4e76-abae-dbd98f4fade0",
   "metadata": {},
   "outputs": [],
   "source": [
    "print('Mean and Median New Fragment size')\n",
    "print('Proxy for distance between Ribos)')\n",
    "\n",
    "mean_new_fragments=np.mean([np.mean(new_lengths) for new_lengths in new_lengths_try])\n",
    "median_new_fragments=np.mean([np.median(new_lengths) for new_lengths in new_lengths_try])\n",
    "\n",
    "print('Mean: ', int(mean_new_fragments))\n",
    "print('Median: ', int(median_new_fragments))\n"
   ]
  },
  {
   "cell_type": "code",
   "execution_count": null,
   "id": "5efd3e96-657b-4a41-9794-18076e7ea304",
   "metadata": {},
   "outputs": [],
   "source": [
    "Total_DNA_bases=np.sum(np.array(Fragments.index)*np.array(Fragments[label]))\n",
    "all_cuts=sum(New_Fragments[label])+np.mean(cuts_count_try)\n",
    "print('Ribo per DNA base: ',all_cuts/Total_DNA_bases)"
   ]
  },
  {
   "cell_type": "code",
   "execution_count": null,
   "id": "5c0bf339-7376-4e0c-9a89-1f02c611de95",
   "metadata": {},
   "outputs": [],
   "source": []
  }
 ],
 "metadata": {
  "kernelspec": {
   "display_name": "Python 3 (ipykernel)",
   "language": "python",
   "name": "python3"
  },
  "language_info": {
   "codemirror_mode": {
    "name": "ipython",
    "version": 3
   },
   "file_extension": ".py",
   "mimetype": "text/x-python",
   "name": "python",
   "nbconvert_exporter": "python",
   "pygments_lexer": "ipython3",
   "version": "3.9.12"
  }
 },
 "nbformat": 4,
 "nbformat_minor": 5
}
