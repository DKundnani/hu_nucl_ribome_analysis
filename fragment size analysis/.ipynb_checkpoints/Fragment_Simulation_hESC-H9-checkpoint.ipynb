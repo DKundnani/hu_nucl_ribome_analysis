{
 "cells": [
  {
   "cell_type": "code",
   "execution_count": 1,
   "id": "f7302a64-7d47-4880-981b-b4efada1b781",
   "metadata": {
    "tags": []
   },
   "outputs": [],
   "source": [
    "import warnings\n",
    "warnings.filterwarnings(\"ignore\", category=UserWarning)\n",
    "from Fragment_Simulation_Functions import *"
   ]
  },
  {
   "cell_type": "code",
   "execution_count": 2,
   "id": "b3f76673-735a-41b7-a7bf-a0a34b53d853",
   "metadata": {
    "tags": []
   },
   "outputs": [],
   "source": [
    "#Uploading the data and initial values\n",
    "data_labels=['0','CD4T', 'hESC-H9', 'HEK293T', 'RNH2-KO-T3-8','RNH2-KO-T3-17']\n",
    "label='hESC-H9'\n",
    "\n",
    "Total=10e6\n",
    "n_reps=10\n",
    "threshold_N=0.001\n"
   ]
  },
  {
   "cell_type": "markdown",
   "id": "11aa29b0-9cfd-4582-be11-25f6840aa841",
   "metadata": {},
   "source": [
    "# Run Simulation"
   ]
  },
  {
   "cell_type": "code",
   "execution_count": 3,
   "id": "c9fda3d0-4bf0-4ac7-a2ef-fb02eb842a58",
   "metadata": {
    "tags": []
   },
   "outputs": [
    {
     "ename": "TypeError",
     "evalue": "load_data() missing 1 required positional argument: 'Total'",
     "output_type": "error",
     "traceback": [
      "\u001b[0;31m---------------------------------------------------------------------------\u001b[0m",
      "\u001b[0;31mTypeError\u001b[0m                                 Traceback (most recent call last)",
      "Cell \u001b[0;32mIn[3], line 2\u001b[0m\n\u001b[1;32m      1\u001b[0m \u001b[38;5;66;03m#Upload Data\u001b[39;00m\n\u001b[0;32m----> 2\u001b[0m Treated, NonTreated\u001b[38;5;241m=\u001b[39m\u001b[43mload_data\u001b[49m\u001b[43m(\u001b[49m\u001b[38;5;124;43m'\u001b[39;49m\u001b[38;5;124;43mfragments_nontreated.csv\u001b[39;49m\u001b[38;5;124;43m'\u001b[39;49m\u001b[43m,\u001b[49m\u001b[38;5;124;43m'\u001b[39;49m\u001b[38;5;124;43mfragments_treated.csv\u001b[39;49m\u001b[38;5;124;43m'\u001b[39;49m\u001b[43m,\u001b[49m\u001b[43mlabel\u001b[49m\u001b[43m)\u001b[49m\n\u001b[1;32m      3\u001b[0m Fragments\u001b[38;5;241m=\u001b[39mget_Fragments_DF(NonTreated,label)\n\u001b[1;32m      4\u001b[0m min_size\u001b[38;5;241m=\u001b[39m\u001b[38;5;28mmin\u001b[39m(Fragments\u001b[38;5;241m.\u001b[39mindex)\n",
      "\u001b[0;31mTypeError\u001b[0m: load_data() missing 1 required positional argument: 'Total'"
     ]
    }
   ],
   "source": [
    "#Upload Data\n",
    "Treated, NonTreated=load_data('fragments_nontreated.csv','fragments_treated.csv',label,Total)\n",
    "Fragments=get_Fragments_DF(NonTreated,label)\n",
    "min_size=min(Fragments.index)\n",
    "\n",
    "#Run Binary Search on Simulations\n",
    "N,Fragments_try, total_cuts_try, new_lengths_try,medians_try,\\\n",
    "Goal_Median, Initial_Median=binary_search_number_cuts(label, Treated, NonTreated, Fragments,\n",
    "                              Total,min_size,n_reps,threshold_N)\n",
    "\n",
    "#Plot results\n",
    "print_plot_results(label, Treated, NonTreated, Fragments, Fragments_try, \n",
    "                       medians_try, total_cuts_try, Total,Goal_Median, Initial_Median,n_reps)"
   ]
  },
  {
   "cell_type": "markdown",
   "id": "2b2f2025-0bd9-4a67-8243-1a6ef11ef00f",
   "metadata": {},
   "source": [
    "# Other Statistics"
   ]
  },
  {
   "cell_type": "code",
   "execution_count": null,
   "id": "b1218d1b-b8b4-4e76-abae-dbd98f4fade0",
   "metadata": {
    "tags": []
   },
   "outputs": [],
   "source": [
    "print('Mean and Median New Fragment size')\n",
    "print('Proxy for distance between Ribos)')\n",
    "\n",
    "mean_new_fragments=np.mean([np.mean(new_lengths) for new_lengths in new_lengths_try])\n",
    "median_new_fragments=np.mean([np.median(new_lengths) for new_lengths in new_lengths_try])\n",
    "\n",
    "print('Mean: ', int(mean_new_fragments))\n",
    "print('Median: ', int(median_new_fragments))\n"
   ]
  },
  {
   "cell_type": "code",
   "execution_count": null,
   "id": "5efd3e96-657b-4a41-9794-18076e7ea304",
   "metadata": {
    "tags": []
   },
   "outputs": [],
   "source": [
    "Total_DNA_bases=np.sum(np.array(Fragments.index)*np.array(Fragments[label]))\n",
    "all_cuts=sum(Fragments_try[0][label])\n",
    "print('Ribo per DNA base: ',Total_DNA_bases/all_cuts)"
   ]
  },
  {
   "cell_type": "code",
   "execution_count": null,
   "id": "442ae3de-5a8a-4b1d-9201-53a36126b334",
   "metadata": {
    "tags": []
   },
   "outputs": [],
   "source": [
    "Total_DNA_bases=np.sum(np.array(Fragments.index)*np.array(Fragments[label]))\n",
    "new_cuts_simulated=np.mean(total_cuts_try)\n",
    "print('Ribo per DNA base: ',Total_DNA_bases/new_cuts_simulated)"
   ]
  },
  {
   "cell_type": "code",
   "execution_count": null,
   "id": "8ceffe76-28de-4f40-a74d-50999d46ba1b",
   "metadata": {},
   "outputs": [],
   "source": [
    "import dill\n",
    "\n",
    "filename='All_variables_'+label+'_Total_'+format(float(Total),'.2')+'_reps_'+str(int(n_reps))+'.pkl'\n",
    "dill.dump_session(filename)"
   ]
  },
  {
   "cell_type": "code",
   "execution_count": null,
   "id": "56b7b669-29cd-4af5-b293-e4c60b35a005",
   "metadata": {},
   "outputs": [],
   "source": [
    "#Reloading Data\n",
    "#import dill                           \n",
    "#dill.load_session('All_variables_CD4T_Total_1e+07_reps_1.pkl')"
   ]
  }
 ],
 "metadata": {
  "kernelspec": {
   "display_name": "Python 3 (ipykernel)",
   "language": "python",
   "name": "python3"
  },
  "language_info": {
   "codemirror_mode": {
    "name": "ipython",
    "version": 3
   },
   "file_extension": ".py",
   "mimetype": "text/x-python",
   "name": "python",
   "nbconvert_exporter": "python",
   "pygments_lexer": "ipython3",
   "version": "3.9.12"
  }
 },
 "nbformat": 4,
 "nbformat_minor": 5
}
