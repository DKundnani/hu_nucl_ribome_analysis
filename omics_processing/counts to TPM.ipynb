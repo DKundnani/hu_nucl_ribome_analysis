{
 "cells": [
  {
   "cell_type": "code",
   "execution_count": null,
   "metadata": {},
   "outputs": [],
   "source": [
    "#!usr/bin/env python3\n",
    "#Author: Deepali L. Kundnani\n",
    "#Institution: Georgia Institute of Technology (Georgia Tech)"
   ]
  },
  {
   "cell_type": "markdown",
   "metadata": {},
   "source": [
    "Packages needed to be imported and input files need to be processed using"
   ]
  },
  {
   "cell_type": "code",
   "execution_count": 2,
   "metadata": {},
   "outputs": [],
   "source": [
    "import pandas as pd\n",
    "import argparse\n",
    "\n",
    "\n",
    "#parser = argparse.ArgumentParser(description='Getting TPM values from counts')\n",
    "counts='exons_pc.counts' #parser.add_argument('--filename', default='exons_pc.counts', help=\"counts file, output from feature counts\")\n",
    "#parser.add_argument(\"-r\", \"--referencefasta\" ,required=True, default='/storage/home/hcoda1/5/dkundnani3/p-fstorici3-0/rich_project_bio-storici/reference/sacCer2/sacCer2.fa', help=\"Specify the fasta file for reference of the sequenced Libraries. Make sure you have Ribosemap environment activated or have bedtools available to be used\") \n",
    "#args= parser.parse_args()\n",
    "\n"
   ]
  },
  {
   "cell_type": "markdown",
   "metadata": {},
   "source": [
    "Functions required to convert counts to tpm"
   ]
  },
  {
   "cell_type": "code",
   "execution_count": 3,
   "metadata": {},
   "outputs": [],
   "source": [
    "import pandas as pd\n",
    "\n",
    "def filterchr(df,col):\n",
    "    \"\"\"\n",
    "    Filter out X and Y chromosomes\n",
    "\n",
    "    Parameters:\n",
    "    df (pd.DataFrame): A DataFrame containing necesarry details. Rows represent genomic regions, columns represent samples.\n",
    "    col (num): Column index containing chromosome names\n",
    "\n",
    "    Returns:\n",
    "    pd.DataFrame: A DataFrame with required chromosomes\n",
    "    \"\"\"\n",
    "    filtered_df = df[~df.iloc[:,col].str.contains('chrX|chrY|chrM')]\n",
    "\n",
    "    return filtered_df\n",
    "\n",
    "def convert_counts_to_tpm(df, gene_lengths):\n",
    "    \"\"\"\n",
    "    Convert raw RNA-seq counts to TPM.\n",
    "\n",
    "    Parameters:\n",
    "    df (pd.DataFrame): A DataFrame containing RNA-seq counts. Rows represent genes, columns represent samples.\n",
    "    gene_lengths (pd.Series): A Series containing the gene lengths in base pairs. The index should match the DataFrame index.\n",
    "\n",
    "    Returns:\n",
    "    pd.DataFrame: A DataFrame with TPM values.\n",
    "    \"\"\"\n",
    "    # Step 0: Covert dataframes to float before any calculations\n",
    "    df = df.astype(float) ; gene_lengths = gene_lengths.astype(float)\n",
    "    \n",
    "    # Step 1: Convert gene lengths from base pairs to kilobases\n",
    "    gene_lengths_kb = gene_lengths / 1000\n",
    "    \n",
    "    # Step 2: Compute Reads Per Kilobase (RPK)\n",
    "    rpk = df.div(gene_lengths_kb, axis=0)\n",
    "    \n",
    "    # Step 3: Compute scaling factor (sum of RPKs per sample)\n",
    "    scaling_factors = rpk.sum(axis=0)\n",
    "    \n",
    "    # Step 4: Calculate TPM\n",
    "    tpm = rpk.div(scaling_factors, axis=1) * 1e6\n",
    "    \n",
    "    return tpm"
   ]
  },
  {
   "cell_type": "code",
   "execution_count": 183,
   "metadata": {},
   "outputs": [],
   "source": [
    "# Read counts file\n",
    "counts_df = pd.read_csv(counts, sep='\\t',skiprows=1)\n",
    "samples=counts_df.columns[6:counts_df.shape[1]].values\n",
    "# Filtere Chromosome X, Y and M\n",
    "counts_df = filterchr(counts_df,1)\n",
    "# Convert counts to TPM\n",
    "tpm_df = convert_counts_to_tpm(counts_df[samples], counts_df[['Length']].values)\n",
    "# Merge TPM with Original file\n",
    "merged_df = pd.concat([counts_df.iloc[:,0:6], tpm_df], axis=1)\n",
    "# Save the TPM file for merging with other files\n",
    "merged_df.to_csv('HEK_tpm.csv', index=False)\n"
   ]
  },
  {
   "cell_type": "code",
   "execution_count": 196,
   "metadata": {},
   "outputs": [],
   "source": [
    "# Taking averages for each cell type\n",
    "\n",
    "merged_df['HEK293T-KO-T3-17'] = merged_df.filter(like='HEK293T-KO-T3-17').mean(axis=1)\n",
    "merged_df['HEK293T-KO-T3-8'] = merged_df.filter(like='HEK293T-KO-T3-8').mean(axis=1)\n",
    "merged_df['HEK293T-WT'] = merged_df.filter(like='HEK293T-WT').mean(axis=1)\n",
    "\n",
    "# Saving average TPM file\n",
    "merged_df[['Geneid','HEK293T-WT','HEK293T-KO-T3-8','HEK293T-KO-T3-17']].to_csv('HEK_tpm_avg.csv', index=False)\n"
   ]
  },
  {
   "cell_type": "code",
   "execution_count": 21,
   "metadata": {},
   "outputs": [],
   "source": [
    "# AGS counts analysis\n",
    "counts_df = pd.read_csv('AGS_rnaseq_counts.tsv', sep='\\t')\n",
    "samples=counts_df.columns[0:7].values\n",
    "tpm_df = convert_counts_to_tpm(counts_df[samples], counts_df[['Length']].values)\n",
    "merged_df = pd.concat([counts_df.iloc[:,7:counts_df.shape[1]], tpm_df], axis=1)\n",
    "merged_df.to_csv('AGS_tpm.csv', index=False)\n"
   ]
  }
 ],
 "metadata": {
  "kernelspec": {
   "display_name": "Python 3",
   "language": "python",
   "name": "python3"
  },
  "language_info": {
   "codemirror_mode": {
    "name": "ipython",
    "version": 3
   },
   "file_extension": ".py",
   "mimetype": "text/x-python",
   "name": "python",
   "nbconvert_exporter": "python",
   "pygments_lexer": "ipython3",
   "version": "3.12.4"
  }
 },
 "nbformat": 4,
 "nbformat_minor": 2
}
